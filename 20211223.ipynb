{
 "cells": [
  {
   "cell_type": "markdown",
   "id": "b4d5a25f",
   "metadata": {},
   "source": [
    "## 리스트 값 수정\n"
   ]
  },
  {
   "cell_type": "code",
   "execution_count": 5,
   "id": "785f954b",
   "metadata": {},
   "outputs": [
    {
     "data": {
      "text/plain": [
       "[0, 1, 2, 3, 4, 5]"
      ]
     },
     "execution_count": 5,
     "metadata": {},
     "output_type": "execute_result"
    }
   ],
   "source": [
    "list6 = [0,1,2,3,4,5]\n",
    "list6"
   ]
  },
  {
   "cell_type": "code",
   "execution_count": 6,
   "id": "2320c15a",
   "metadata": {},
   "outputs": [
    {
     "name": "stdout",
     "output_type": "stream",
     "text": [
      "수정 전 :  1\n",
      "수정 후 :  7\n"
     ]
    }
   ],
   "source": [
    "print('수정 전 : ', list6[1])\n",
    "list6[1] = 7\n",
    "print('수정 후 : ', list6[1])"
   ]
  },
  {
   "cell_type": "code",
   "execution_count": 7,
   "id": "1b3f4268",
   "metadata": {},
   "outputs": [
    {
     "data": {
      "text/plain": [
       "[0, 7, 2, 3, 4, 5]"
      ]
     },
     "execution_count": 7,
     "metadata": {},
     "output_type": "execute_result"
    }
   ],
   "source": [
    "list6"
   ]
  },
  {
   "cell_type": "code",
   "execution_count": 10,
   "id": "7683f5b1",
   "metadata": {},
   "outputs": [
    {
     "name": "stdout",
     "output_type": "stream",
     "text": [
      "[0, 7, 2, 7, 5]\n"
     ]
    }
   ],
   "source": [
    "list6[3:5] = [7]\n",
    "print(list6)"
   ]
  },
  {
   "cell_type": "code",
   "execution_count": 26,
   "id": "c904129a",
   "metadata": {},
   "outputs": [],
   "source": [
    "array = [1,2,3,4,5]"
   ]
  },
  {
   "cell_type": "code",
   "execution_count": 27,
   "id": "49ff257a",
   "metadata": {},
   "outputs": [
    {
     "name": "stdout",
     "output_type": "stream",
     "text": [
      "[1, 2, 3, 4, 7]\n",
      "[1, ['a', 'b', 'c'], 3, 4, 7]\n",
      "[1, ['a', 'b', 'c'], 3, 'd', 'e', 'f', 'g']\n",
      "['h', 'i', 'j', ['a', 'b', 'c'], 3, 'd', 'e', 'f', 'g']\n"
     ]
    }
   ],
   "source": [
    "array[4] = 7\n",
    "print(array)\n",
    "array[1] = ['a','b','c']\n",
    "print(array)\n",
    "array[3:5]=['d','e','f','g']\n",
    "print(array)\n",
    "array[:1] = 'h','i','j'\n",
    "print(array)"
   ]
  },
  {
   "cell_type": "markdown",
   "id": "596b33e6",
   "metadata": {},
   "source": [
    "## 리스트 값 삭제"
   ]
  },
  {
   "cell_type": "code",
   "execution_count": 28,
   "id": "f964f125",
   "metadata": {},
   "outputs": [
    {
     "name": "stdout",
     "output_type": "stream",
     "text": [
      "[0, 2, 3, 4, 5]\n"
     ]
    }
   ],
   "source": [
    "list7 = [0, 1, 2, 3, 4, 5]\n",
    "#del 키워드\n",
    "del list7[1]\n",
    "print(list7)"
   ]
  },
  {
   "cell_type": "code",
   "execution_count": 29,
   "id": "eb2daf18",
   "metadata": {},
   "outputs": [
    {
     "name": "stdout",
     "output_type": "stream",
     "text": [
      "[0, 5]\n"
     ]
    }
   ],
   "source": [
    "del list7[1:4]\n",
    "print(list7)"
   ]
  },
  {
   "cell_type": "code",
   "execution_count": 36,
   "id": "8c41f450",
   "metadata": {},
   "outputs": [
    {
     "name": "stdout",
     "output_type": "stream",
     "text": [
      "['a', 'c', 'd', 'e', 'b']\n",
      "['a', 'c', 'd', 'e']\n"
     ]
    }
   ],
   "source": [
    "#remove(값) 함수 이용해서 값 삭제\n",
    "# 앞부터 하나씩 지워짐\n",
    "list7 = ['a','b','c','d','e','b']\n",
    "list7.remove('b')\n",
    "print(list7)\n",
    "list7.remove('b')\n",
    "print(list7)"
   ]
  },
  {
   "cell_type": "markdown",
   "id": "3138d4de",
   "metadata": {},
   "source": [
    "## 정렬"
   ]
  },
  {
   "cell_type": "code",
   "execution_count": 39,
   "id": "563c7006",
   "metadata": {},
   "outputs": [
    {
     "name": "stdout",
     "output_type": "stream",
     "text": [
      "[9, 77, 13, 51, 100, 3]\n",
      "[3, 9, 13, 51, 77, 100]\n"
     ]
    }
   ],
   "source": [
    "#sort() 오름차순 정렬\n",
    "list8 =[9, 77, 13, 51, 100, 3]\n",
    "print(list8)\n",
    "list8.sort()\n",
    "print(list8)"
   ]
  },
  {
   "cell_type": "code",
   "execution_count": 50,
   "id": "46006264",
   "metadata": {},
   "outputs": [
    {
     "name": "stdout",
     "output_type": "stream",
     "text": [
      "[9, 77, 13, 51, 100, 3]\n",
      "[3, 100, 51, 13, 77, 9]\n"
     ]
    }
   ],
   "source": [
    "# reverse() 역순으로 정렬(내림차순 아님) \n",
    "# 원래 True 값이 역순이기 때문에 False값으로 넣으면 정방향으로 사용 가능\n",
    "list9 = [9, 77, 13, 51, 100, 3]\n",
    "print(list9)\n",
    "list9.reverse()\n",
    "print(list9)"
   ]
  },
  {
   "cell_type": "code",
   "execution_count": 51,
   "id": "5f044510",
   "metadata": {},
   "outputs": [
    {
     "name": "stdout",
     "output_type": "stream",
     "text": [
      "[3, 100, 51, 13, 77, 9]\n",
      "[3, 9, 13, 51, 77, 100]\n"
     ]
    }
   ],
   "source": [
    "print(list9)\n",
    "list9.sort(reverse = False)\n",
    "print(list9)"
   ]
  },
  {
   "cell_type": "code",
   "execution_count": 59,
   "id": "430a9685",
   "metadata": {},
   "outputs": [
    {
     "name": "stdout",
     "output_type": "stream",
     "text": [
      "2\n"
     ]
    }
   ],
   "source": [
    "#index() - 찾고자하는 값의 위치를 반환\n",
    "list11 = ['a','b','c','d','e','f','c','c']\n",
    "print(list11.index('c'))"
   ]
  },
  {
   "cell_type": "code",
   "execution_count": 60,
   "id": "213a9dd9",
   "metadata": {},
   "outputs": [
    {
     "name": "stdout",
     "output_type": "stream",
     "text": [
      "3\n"
     ]
    }
   ],
   "source": [
    "#count() - 찾고자하는 값이 몇번 들어있는지 반환\n",
    "print(list11.count('c'))"
   ]
  },
  {
   "cell_type": "code",
   "execution_count": 55,
   "id": "f41ee994",
   "metadata": {},
   "outputs": [
    {
     "name": "stdout",
     "output_type": "stream",
     "text": [
      "['a', 'b', 'c', 'd', 'e', 'f', 'c']\n"
     ]
    }
   ],
   "source": [
    "#pop() - 마지막 값을 반환 후 삭제\n",
    "list11.pop()\n",
    "print(list11)"
   ]
  },
  {
   "cell_type": "code",
   "execution_count": 58,
   "id": "9ccccc91",
   "metadata": {},
   "outputs": [
    {
     "name": "stdout",
     "output_type": "stream",
     "text": [
      "3\n",
      "7\n"
     ]
    }
   ],
   "source": [
    "#len(리스트) - 리스트 값 개수 반환\n",
    "list12 = [0,1,2]\n",
    "print(len(list12))\n",
    "print(len(list11))"
   ]
  },
  {
   "cell_type": "markdown",
   "id": "052d375f",
   "metadata": {},
   "source": [
    "# 튜플\n",
    "- 자료구조 형태 중 하나\n",
    "- 순서가 있는 집합 (인덱스)\n",
    "- 소괄호()로 작성되어지며, 내부값은 콤마(,)로 구분\n",
    "- 추가, 수정, 삭제 불가능\n",
    "- < 사용 이유 >\n",
    "- 처리속도 향상 및 메모리 공간 절약 가능\n",
    "- 값이 변하면 안되는 경우 사용한다\n",
    "- 구문을 더 간단하게 사용하는 경우에 사용"
   ]
  },
  {
   "cell_type": "code",
   "execution_count": 67,
   "id": "bd6483e8",
   "metadata": {},
   "outputs": [
    {
     "name": "stdout",
     "output_type": "stream",
     "text": [
      "<class 'tuple'>\n",
      "(1, 2, 3)\n",
      "('My', 'Name')\n",
      "(1, 2, 'My', 'Name')\n",
      "(1, 2, ('My', 'Name'))\n",
      "3\n"
     ]
    }
   ],
   "source": [
    "a = ()\n",
    "b = (1,2,3)\n",
    "c = ('My','Name')\n",
    "d = (1,2,'My','Name')\n",
    "e = (1,2,('My','Name'))\n",
    "print(type(a))\n",
    "print(b)\n",
    "print(c)\n",
    "print(d)\n",
    "print(e)\n",
    "# 새로운 선언은 가능\n",
    "e = (3)\n",
    "print(e)"
   ]
  },
  {
   "cell_type": "code",
   "execution_count": 71,
   "id": "e7c84167",
   "metadata": {},
   "outputs": [
    {
     "name": "stdout",
     "output_type": "stream",
     "text": [
      "2\n",
      "('a', 'b', 'c')\n"
     ]
    }
   ],
   "source": [
    "# 인덱싱, 슬라이싱 가능\n",
    "# 인덱싱\n",
    "tuple1 = (0,1,2,3,('a','b','c'), 5)\n",
    "print(tuple1[2])\n",
    "print(tuple1[4])"
   ]
  },
  {
   "cell_type": "code",
   "execution_count": 76,
   "id": "7ab27cb6",
   "metadata": {},
   "outputs": [
    {
     "name": "stdout",
     "output_type": "stream",
     "text": [
      "(1, 2)\n",
      "(3, ('a', 'b', 'c'), 5)\n",
      "6\n"
     ]
    }
   ],
   "source": [
    "# 슬라이싱\n",
    "print(tuple1[1:3])\n",
    "print(tuple1[3:])\n",
    "print(len(tuple1))"
   ]
  },
  {
   "cell_type": "code",
   "execution_count": 77,
   "id": "dc8e61cb",
   "metadata": {},
   "outputs": [
    {
     "ename": "TypeError",
     "evalue": "'tuple' object does not support item assignment",
     "output_type": "error",
     "traceback": [
      "\u001b[1;31m---------------------------------------------------------------------------\u001b[0m",
      "\u001b[1;31mTypeError\u001b[0m                                 Traceback (most recent call last)",
      "\u001b[1;32m~\\AppData\\Local\\Temp/ipykernel_2748/1225516351.py\u001b[0m in \u001b[0;36m<module>\u001b[1;34m\u001b[0m\n\u001b[1;32m----> 1\u001b[1;33m \u001b[0mtuple1\u001b[0m\u001b[1;33m[\u001b[0m\u001b[1;36m0\u001b[0m\u001b[1;33m]\u001b[0m \u001b[1;33m=\u001b[0m \u001b[1;36m3\u001b[0m\u001b[1;33m\u001b[0m\u001b[1;33m\u001b[0m\u001b[0m\n\u001b[0m",
      "\u001b[1;31mTypeError\u001b[0m: 'tuple' object does not support item assignment"
     ]
    }
   ],
   "source": [
    "# 튜플이므로 값 변경이 안된다\n",
    "tuple1[0] = 3"
   ]
  },
  {
   "cell_type": "markdown",
   "id": "caab57e5",
   "metadata": {},
   "source": [
    "### 데이터의 포함 여부 확인\n",
    "- in , not in"
   ]
  },
  {
   "cell_type": "code",
   "execution_count": 78,
   "id": "4b290d32",
   "metadata": {},
   "outputs": [],
   "source": [
    "str1 = \"파이썬 최고\""
   ]
  },
  {
   "cell_type": "code",
   "execution_count": 87,
   "id": "ec8fb151",
   "metadata": {},
   "outputs": [
    {
     "name": "stdout",
     "output_type": "stream",
     "text": [
      "True\n",
      "False\n",
      "True\n",
      "False\n"
     ]
    }
   ],
   "source": [
    "print(\"파이썬\" in str1)\n",
    "print(\"파이썬최\" in str1)\n",
    "print(\"파이썬 최\" in str1)\n",
    "print(\"파이썬\" not in str1)"
   ]
  },
  {
   "cell_type": "code",
   "execution_count": 86,
   "id": "4de1a6d0",
   "metadata": {},
   "outputs": [
    {
     "name": "stdout",
     "output_type": "stream",
     "text": [
      "False\n",
      "True\n"
     ]
    }
   ],
   "source": [
    "list1 = [77, 38, 10]\n",
    "print(33 in list1)\n",
    "print(33 not in list1)"
   ]
  },
  {
   "cell_type": "code",
   "execution_count": 112,
   "id": "4dd8a7f0",
   "metadata": {},
   "outputs": [
    {
     "name": "stdout",
     "output_type": "stream",
     "text": [
      "검색할 문자를 입력하세요 >> 오렌지\n",
      "*********************************************\n",
      "오렌지은(는) 리스트에 들어있지 않습니다.\n",
      "오렌지은(는) 리스트에 들어있지 않습니다.\n",
      "*********************************************\n"
     ]
    }
   ],
   "source": [
    "list_fruit = ['딸기','바나나','수박','체리','포도']\n",
    "fruit = input('검색할 문자를 입력하세요 >> ')\n",
    "print('*'*45)\n",
    "if fruit in list_fruit:\n",
    "    print('%s은(는) 리스트 %d번째 인덱스에 들어있습니다.'  %(fruit, list_fruit.index(fruit)))\n",
    "    print(f'{fruit}은(는) 리스트 {list_fruit.index(fruit)}번째 인덱스에 들어있습니다.')\n",
    "else :\n",
    "    print('%s은(는) 리스트에 들어있지 않습니다.' %fruit)\n",
    "    print(f'{fruit}은(는) 리스트에 들어있지 않습니다.')\n",
    "print('*'*45)"
   ]
  },
  {
   "cell_type": "code",
   "execution_count": 124,
   "id": "f8e2131c",
   "metadata": {},
   "outputs": [
    {
     "name": "stdout",
     "output_type": "stream",
     "text": [
      "*☆*☆*☆*☆*☆*☆*☆*☆*☆*☆*☆*☆*☆*☆*☆*☆*☆*☆*☆*☆*☆*☆*☆*☆*☆*\n",
      "검색할 문자를 입력하세요 >>  \n",
      " 은(는) 4번 들어있습니다\n",
      " 은(는) 4번 들어있습니다\n",
      "*☆*☆*☆*☆*☆*☆*☆*☆*☆*☆*☆*☆*☆*☆*☆*☆*☆*☆*☆*☆*☆*☆*☆*☆*☆*\n"
     ]
    }
   ],
   "source": [
    "s = 'Hi, My name is jongin'\n",
    "print('*☆'*25+'*')\n",
    "search = input('검색할 문자를 입력하세요 >> ')\n",
    "if search in s :\n",
    "    print('%s은(는) %d번 들어있습니다' %(search, s.count(search)))\n",
    "    print(f'{search}은(는) {s.count(search)}번 들어있습니다')\n",
    "else :\n",
    "    print('%s은(는) 들어있지 않습니다' %search)\n",
    "    print(f'{search}은(는) 들어있지 않습니다.')\n",
    "print('*☆'*25+'*')\n",
    "# 대소문자 구분, 공백, 문장부호도 전부 구분함"
   ]
  },
  {
   "cell_type": "markdown",
   "id": "173463f1",
   "metadata": {},
   "source": [
    "## 반복문\n",
    "- while문 : 반복횟수가 명확하지 않을때\n",
    "- for문 : 반복횟수가 정해져 있을때"
   ]
  },
  {
   "cell_type": "code",
   "execution_count": 129,
   "id": "840851c9",
   "metadata": {},
   "outputs": [
    {
     "name": "stdout",
     "output_type": "stream",
     "text": [
      "1\n",
      "2\n",
      "3\n",
      "4\n",
      "5\n",
      "6\n",
      "7\n",
      "8\n",
      "9\n",
      "10\n",
      "11\n",
      "12\n",
      "13\n"
     ]
    }
   ],
   "source": [
    "num=0\n",
    "while True :\n",
    "    num+=1\n",
    "    print(num)\n",
    "    if num > 12 :\n",
    "        break"
   ]
  },
  {
   "cell_type": "code",
   "execution_count": 132,
   "id": "e105a873",
   "metadata": {},
   "outputs": [
    {
     "name": "stdout",
     "output_type": "stream",
     "text": [
      "무한루프\n"
     ]
    }
   ],
   "source": [
    "while True :\n",
    "    print('무한루프')\n",
    "    break"
   ]
  },
  {
   "cell_type": "code",
   "execution_count": 136,
   "id": "e75d2fe2",
   "metadata": {},
   "outputs": [
    {
     "name": "stdout",
     "output_type": "stream",
     "text": [
      "1\n",
      "2\n",
      "3\n"
     ]
    }
   ],
   "source": [
    "number = 1\n",
    "while True :\n",
    "    print(number)\n",
    "    number+=1\n",
    "    if number > 3:\n",
    "        break"
   ]
  },
  {
   "cell_type": "code",
   "execution_count": 139,
   "id": "ea45836d",
   "metadata": {},
   "outputs": [
    {
     "name": "stdout",
     "output_type": "stream",
     "text": [
      "첫 번째 정수 입력 >> -5\n",
      "두 번째 정수 입력 >> 10\n",
      "두 정수의 합 : 5\n",
      "두 정수의 합 : 5\n",
      "첫 번째 정수 입력 >> -784\n",
      "두 번째 정수 입력 >> 1561\n",
      "두 정수의 합 : 777\n",
      "두 정수의 합 : 777\n",
      "첫 번째 정수 입력 >> 5\n",
      "두 번째 정수 입력 >> -5\n",
      "두 정수의 합 : 0\n",
      "두 정수의 합 : 0\n",
      "첫 번째 정수 입력 >> 0\n",
      "두 번째 정수 입력 >> 0\n",
      "프로그램이 종료되었습니다.\n"
     ]
    }
   ],
   "source": [
    "while True :\n",
    "    num1 = int(input(\"첫 번째 정수 입력 >> \"))\n",
    "    num2 = int(input(\"두 번째 정수 입력 >> \"))\n",
    "    if num1 == 0 and num2 == 0 :\n",
    "        print('프로그램이 종료되었습니다.')\n",
    "        break\n",
    "    else :\n",
    "        print('두 정수의 합 : %d' %(num1+num2))\n",
    "        print(f'두 정수의 합 : {num1+num2}')"
   ]
  },
  {
   "cell_type": "code",
   "execution_count": 157,
   "id": "4ee28da9",
   "metadata": {},
   "outputs": [
    {
     "name": "stdout",
     "output_type": "stream",
     "text": [
      "현재 몸무게 : 80\n",
      "목표 몸무게 : 70\n",
      "1주차 감량 몸무게 : 5\n",
      "2주차 감량 몸무게 : 6\n",
      "69kg 달성!! 축하합니다!\n"
     ]
    }
   ],
   "source": [
    "now = int(input(\"현재 몸무게 : \"))\n",
    "object = int(input(\"목표 몸무게 : \"))\n",
    "num = 1\n",
    "while True :\n",
    "    sub = int(input(\"%d주차 감량 몸무게 : \" %num))\n",
    "    num+=1\n",
    "    now -= sub\n",
    "    if now <= object :\n",
    "        print('%dkg 달성!! 축하합니다!' %now)\n",
    "        break"
   ]
  },
  {
   "cell_type": "markdown",
   "id": "cd5a1f2d",
   "metadata": {},
   "source": [
    "## for문\n",
    "- for 변수 in 문자열(or리스트or튜플) :\n",
    "    - print(변수)"
   ]
  },
  {
   "cell_type": "code",
   "execution_count": 158,
   "id": "e25567bc",
   "metadata": {},
   "outputs": [
    {
     "name": "stdout",
     "output_type": "stream",
     "text": [
      "햄버거\n",
      "치킨\n",
      "피자\n"
     ]
    }
   ],
   "source": [
    "list_food = [\"햄버거\",\"치킨\",\"피자\"]\n",
    "for food in list_food :\n",
    "    print(food)"
   ]
  },
  {
   "cell_type": "code",
   "execution_count": 162,
   "id": "96d8383b",
   "metadata": {},
   "outputs": [
    {
     "name": "stdout",
     "output_type": "stream",
     "text": [
      "안녕하세요\n",
      "안녕하세요\n",
      "안녕하세요\n",
      "안녕하세요\n",
      "안녕하세요\n"
     ]
    }
   ],
   "source": [
    "s = \"안녕하세요\"\n",
    "for i in s :\n",
    "    print(s)"
   ]
  },
  {
   "cell_type": "code",
   "execution_count": 165,
   "id": "5f695da4",
   "metadata": {},
   "outputs": [
    {
     "name": "stdout",
     "output_type": "stream",
     "text": [
      "햄버거\n",
      "치킨\n",
      "피자\n"
     ]
    }
   ],
   "source": [
    "tuple_food = (\"햄버거\",\"치킨\",\"피자\")\n",
    "for food in tuple_food:\n",
    "    print(food)"
   ]
  }
 ],
 "metadata": {
  "kernelspec": {
   "display_name": "Python 3 (ipykernel)",
   "language": "python",
   "name": "python3"
  },
  "language_info": {
   "codemirror_mode": {
    "name": "ipython",
    "version": 3
   },
   "file_extension": ".py",
   "mimetype": "text/x-python",
   "name": "python",
   "nbconvert_exporter": "python",
   "pygments_lexer": "ipython3",
   "version": "3.9.7"
  }
 },
 "nbformat": 4,
 "nbformat_minor": 5
}
